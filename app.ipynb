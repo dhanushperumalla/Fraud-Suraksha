{
 "cells": [
  {
   "cell_type": "code",
   "execution_count": 150,
   "metadata": {},
   "outputs": [],
   "source": [
    "import warnings\n",
    "warnings.filterwarnings('ignore')"
   ]
  },
  {
   "cell_type": "code",
   "execution_count": 151,
   "metadata": {},
   "outputs": [],
   "source": [
    "import dotenv\n",
    "import os\n",
    "dotenv.load_dotenv()\n",
    "GOOGLE_API_KEY = os.getenv('GOOGLE_API_KEY')"
   ]
  },
  {
   "cell_type": "code",
   "execution_count": 152,
   "metadata": {},
   "outputs": [],
   "source": [
    "from langchain_google_genai import GoogleGenerativeAIEmbeddings\n",
    "gemini_embeddings = GoogleGenerativeAIEmbeddings(model=\"models/embedding-001\")"
   ]
  },
  {
   "cell_type": "code",
   "execution_count": 153,
   "metadata": {},
   "outputs": [],
   "source": [
    "from langchain_google_genai import ChatGoogleGenerativeAI\n",
    "model = ChatGoogleGenerativeAI(model=\"gemini-2.0-flash\",convert_system_message_to_human=False)"
   ]
  },
  {
   "cell_type": "code",
   "execution_count": 154,
   "metadata": {},
   "outputs": [],
   "source": [
    "import bs4\n",
    "from langchain import hub"
   ]
  },
  {
   "cell_type": "code",
   "execution_count": 155,
   "metadata": {},
   "outputs": [],
   "source": [
    "from langchain.chains import create_retrieval_chain"
   ]
  },
  {
   "cell_type": "code",
   "execution_count": 156,
   "metadata": {},
   "outputs": [],
   "source": [
    "from langchain.chains.combine_documents import create_stuff_documents_chain\n",
    "from langchain_chroma import Chroma"
   ]
  },
  {
   "cell_type": "code",
   "execution_count": 157,
   "metadata": {},
   "outputs": [],
   "source": [
    "from langchain_community.document_loaders import PyPDFLoader"
   ]
  },
  {
   "cell_type": "code",
   "execution_count": 158,
   "metadata": {},
   "outputs": [],
   "source": [
    "from langchain_core.prompts import ChatPromptTemplate\n",
    "from langchain_text_splitters import RecursiveCharacterTextSplitter\n",
    "from langchain_core.prompts import MessagesPlaceholder"
   ]
  },
  {
   "cell_type": "code",
   "execution_count": 159,
   "metadata": {},
   "outputs": [],
   "source": [
    "loader = PyPDFLoader('D:\\Hackathons\\SAP-HAkathon\\Fraud Suraksha\\GMaps.pdf')"
   ]
  },
  {
   "cell_type": "code",
   "execution_count": 160,
   "metadata": {},
   "outputs": [],
   "source": [
    "doc = loader.load()"
   ]
  },
  {
   "cell_type": "code",
   "execution_count": 161,
   "metadata": {},
   "outputs": [
    {
     "data": {
      "text/plain": [
       "[Document(metadata={'producer': 'Qt 4.8.7', 'creator': 'wkhtmltopdf 0.12.4', 'creationdate': '2025-03-27T04:29:32+00:00', 'title': 'Markdown To PDF', 'source': 'D:\\\\Hackathons\\\\SAP-HAkathon\\\\Fraud Suraksha\\\\GMaps.pdf', 'total_pages': 2, 'page': 0, 'page_label': '1'}, page_content='Detailed Report: Google Maps Scam (Task-Based Fraud) Detailed Report: Google Maps Scam (Task-Based Fraud)\\n1. Introduction\\n1. Introduction\\nThis report outlines a fraudulent scheme involving fake Google Maps review tasks, where victims are lured into performing small tasks for payment before being\\ntricked into sending money under the guise of \"merchant tasks.\" The scam operates through WhatsApp and Telegram, targeting individuals with promises of easy\\nearnings.\\n2. How the Scam Operates\\n2. How the Scam Operates\\nStep 1: Initial Contact\\nStep 1: Initial Contact\\nThe victim receives a message on \\nWhatsApp\\nWhatsApp\\n from an unknown number.\\nThe scammer offers payment in exchange for \\nwriting Google Maps reviews\\nwriting Google Maps reviews\\n.\\nA small amount (e.g., ₹200) is sent to gain the victim’s trust.\\nStep 2: Transition to Telegram\\nStep 2: Transition to Telegram\\nThe scammer asks the victim to move the conversation to \\nTelegram\\nTelegram\\n (a platform with less scrutiny).\\nA new fraudster (posing as a \"task manager\") assigns small tasks, such as:\\nLiking YouTube videos.\\nSubscribing to channels.\\nWriting fake Google reviews.\\nFor each task, the victim receives a small payment (e.g., ₹40 per task).\\nStep 3: Introduction of the \"Merchant Task\" (Fraudulent Phase)\\nStep 3: Introduction of the \"Merchant Task\" (Fraudulent Phase)\\nAfter completing 5-6 tasks, the victim is told they must complete a \\n\"merchant task\"\\n\"merchant task\"\\n to receive their full salary.\\nThe scammer presents multiple \\npayment plans\\npayment plans\\n (e.g., ₹1010, ₹2500, ₹5000, etc.), claiming it is an \"investment\" for higher returns.\\nOnce the victim pays, they are given more \"tasks\" requiring larger payments, with excuses like:\\n\"You selected the wrong option, pay again.\"\\n\"Complete one more task to unlock withdrawals.\"\\nUltimately, the scammer \\nblocks the victim\\nblocks the victim\\n without paying any \"salary.\"\\n3. Modus Operandi of Scammers\\n3. Modus Operandi of Scammers\\nFake Profiles:\\nFake Profiles:\\n Use stolen or AI-generated profile pictures.\\nFake Payment Proofs:\\nFake Payment Proofs:\\n Share edited screenshots of \"payments\" to other victims.\\nPsychological Trapping:\\nPsychological Trapping:\\n Small initial payments build trust before the big scam.\\nNo Real Company:\\nNo Real Company:\\n They impersonate reputed firms (e.g., Google, Amazon, Swiggy) but have no official links.\\n4. Why People Fall for This Scam?\\n4. Why People Fall for This Scam?\\n✔\\n \\nEasy Money Trap\\nEasy Money Trap\\n – Victims believe they can earn without effort.\\n✔\\n \\nInitial Payments\\nInitial Payments\\n – Small rewards make the scam seem legitimate.\\n✔\\n \\nPressure Tactics\\nPressure Tactics\\n – Scammers create urgency (\"Complete now or lose salary\").\\n✔\\n \\nLack of Awareness\\nLack of Awareness\\n – Many are unaware of such digital frauds.\\n5. Legal & Preventive Measures\\n5. Legal & Preventive Measures\\nIf You Are a Victim:\\nIf You Are a Victim:\\nFile a Cyber Complaint\\nFile a Cyber Complaint\\n at \\nhttps://cybercrime.gov.in\\n.\\nReport to Your Bank\\nReport to Your Bank\\n – If payment was via UPI/Bank, request a chargeback.\\nBlock & Report\\nBlock & Report\\n the numbers on WhatsApp/Telegram.\\nHow to Avoid Such Scams?\\nHow to Avoid Such Scams?\\n\\x00 Never pay money to receive \"earnings.\"\\n\\x00 Do not trust unsolicited WhatsApp job offers.\\n\\x00 Verify company legitimacy before engaging.\\n\\x00 Use Google’s official channels for gig work (Google doesn’t pay via Telegram).\\n6. Conclusion\\n6. Conclusion\\nThis scam exploits trust and greed, using small payments to manipulate victims into larger frauds. Awareness and skepticism are key to avoiding such traps. Always\\nverify before engaging in online \"task-based\" earning schemes.\\nReport Compiled By:\\nReport Compiled By:\\n Dhhanush'),\n",
       " Document(metadata={'producer': 'Qt 4.8.7', 'creator': 'wkhtmltopdf 0.12.4', 'creationdate': '2025-03-27T04:29:32+00:00', 'title': 'Markdown To PDF', 'source': 'D:\\\\Hackathons\\\\SAP-HAkathon\\\\Fraud Suraksha\\\\GMaps.pdf', 'total_pages': 2, 'page': 1, 'page_label': '2'}, page_content='Date:\\nDate:\\n 26/03/2025')]"
      ]
     },
     "execution_count": 161,
     "metadata": {},
     "output_type": "execute_result"
    }
   ],
   "source": [
    "doc"
   ]
  },
  {
   "cell_type": "code",
   "execution_count": 162,
   "metadata": {},
   "outputs": [],
   "source": [
    "text_splitter = RecursiveCharacterTextSplitter(chunk_size=1000, chunk_overlap=200)\n",
    "splits = text_splitter.split_documents(doc)"
   ]
  },
  {
   "cell_type": "code",
   "execution_count": 163,
   "metadata": {},
   "outputs": [
    {
     "data": {
      "text/plain": [
       "[Document(metadata={'producer': 'Qt 4.8.7', 'creator': 'wkhtmltopdf 0.12.4', 'creationdate': '2025-03-27T04:29:32+00:00', 'title': 'Markdown To PDF', 'source': 'D:\\\\Hackathons\\\\SAP-HAkathon\\\\Fraud Suraksha\\\\GMaps.pdf', 'total_pages': 2, 'page': 0, 'page_label': '1'}, page_content='Detailed Report: Google Maps Scam (Task-Based Fraud) Detailed Report: Google Maps Scam (Task-Based Fraud)\\n1. Introduction\\n1. Introduction\\nThis report outlines a fraudulent scheme involving fake Google Maps review tasks, where victims are lured into performing small tasks for payment before being\\ntricked into sending money under the guise of \"merchant tasks.\" The scam operates through WhatsApp and Telegram, targeting individuals with promises of easy\\nearnings.\\n2. How the Scam Operates\\n2. How the Scam Operates\\nStep 1: Initial Contact\\nStep 1: Initial Contact\\nThe victim receives a message on \\nWhatsApp\\nWhatsApp\\n from an unknown number.\\nThe scammer offers payment in exchange for \\nwriting Google Maps reviews\\nwriting Google Maps reviews\\n.\\nA small amount (e.g., ₹200) is sent to gain the victim’s trust.\\nStep 2: Transition to Telegram\\nStep 2: Transition to Telegram\\nThe scammer asks the victim to move the conversation to \\nTelegram\\nTelegram\\n (a platform with less scrutiny).'),\n",
       " Document(metadata={'producer': 'Qt 4.8.7', 'creator': 'wkhtmltopdf 0.12.4', 'creationdate': '2025-03-27T04:29:32+00:00', 'title': 'Markdown To PDF', 'source': 'D:\\\\Hackathons\\\\SAP-HAkathon\\\\Fraud Suraksha\\\\GMaps.pdf', 'total_pages': 2, 'page': 0, 'page_label': '1'}, page_content='Step 2: Transition to Telegram\\nStep 2: Transition to Telegram\\nThe scammer asks the victim to move the conversation to \\nTelegram\\nTelegram\\n (a platform with less scrutiny).\\nA new fraudster (posing as a \"task manager\") assigns small tasks, such as:\\nLiking YouTube videos.\\nSubscribing to channels.\\nWriting fake Google reviews.\\nFor each task, the victim receives a small payment (e.g., ₹40 per task).\\nStep 3: Introduction of the \"Merchant Task\" (Fraudulent Phase)\\nStep 3: Introduction of the \"Merchant Task\" (Fraudulent Phase)\\nAfter completing 5-6 tasks, the victim is told they must complete a \\n\"merchant task\"\\n\"merchant task\"\\n to receive their full salary.\\nThe scammer presents multiple \\npayment plans\\npayment plans\\n (e.g., ₹1010, ₹2500, ₹5000, etc.), claiming it is an \"investment\" for higher returns.\\nOnce the victim pays, they are given more \"tasks\" requiring larger payments, with excuses like:\\n\"You selected the wrong option, pay again.\"\\n\"Complete one more task to unlock withdrawals.\"'),\n",
       " Document(metadata={'producer': 'Qt 4.8.7', 'creator': 'wkhtmltopdf 0.12.4', 'creationdate': '2025-03-27T04:29:32+00:00', 'title': 'Markdown To PDF', 'source': 'D:\\\\Hackathons\\\\SAP-HAkathon\\\\Fraud Suraksha\\\\GMaps.pdf', 'total_pages': 2, 'page': 0, 'page_label': '1'}, page_content='Once the victim pays, they are given more \"tasks\" requiring larger payments, with excuses like:\\n\"You selected the wrong option, pay again.\"\\n\"Complete one more task to unlock withdrawals.\"\\nUltimately, the scammer \\nblocks the victim\\nblocks the victim\\n without paying any \"salary.\"\\n3. Modus Operandi of Scammers\\n3. Modus Operandi of Scammers\\nFake Profiles:\\nFake Profiles:\\n Use stolen or AI-generated profile pictures.\\nFake Payment Proofs:\\nFake Payment Proofs:\\n Share edited screenshots of \"payments\" to other victims.\\nPsychological Trapping:\\nPsychological Trapping:\\n Small initial payments build trust before the big scam.\\nNo Real Company:\\nNo Real Company:\\n They impersonate reputed firms (e.g., Google, Amazon, Swiggy) but have no official links.\\n4. Why People Fall for This Scam?\\n4. Why People Fall for This Scam?\\n✔\\n \\nEasy Money Trap\\nEasy Money Trap\\n – Victims believe they can earn without effort.\\n✔\\n \\nInitial Payments\\nInitial Payments\\n – Small rewards make the scam seem legitimate.\\n✔'),\n",
       " Document(metadata={'producer': 'Qt 4.8.7', 'creator': 'wkhtmltopdf 0.12.4', 'creationdate': '2025-03-27T04:29:32+00:00', 'title': 'Markdown To PDF', 'source': 'D:\\\\Hackathons\\\\SAP-HAkathon\\\\Fraud Suraksha\\\\GMaps.pdf', 'total_pages': 2, 'page': 0, 'page_label': '1'}, page_content='✔\\n \\nEasy Money Trap\\nEasy Money Trap\\n – Victims believe they can earn without effort.\\n✔\\n \\nInitial Payments\\nInitial Payments\\n – Small rewards make the scam seem legitimate.\\n✔\\n \\nPressure Tactics\\nPressure Tactics\\n – Scammers create urgency (\"Complete now or lose salary\").\\n✔\\n \\nLack of Awareness\\nLack of Awareness\\n – Many are unaware of such digital frauds.\\n5. Legal & Preventive Measures\\n5. Legal & Preventive Measures\\nIf You Are a Victim:\\nIf You Are a Victim:\\nFile a Cyber Complaint\\nFile a Cyber Complaint\\n at \\nhttps://cybercrime.gov.in\\n.\\nReport to Your Bank\\nReport to Your Bank\\n – If payment was via UPI/Bank, request a chargeback.\\nBlock & Report\\nBlock & Report\\n the numbers on WhatsApp/Telegram.\\nHow to Avoid Such Scams?\\nHow to Avoid Such Scams?\\n\\x00 Never pay money to receive \"earnings.\"\\n\\x00 Do not trust unsolicited WhatsApp job offers.\\n\\x00 Verify company legitimacy before engaging.\\n\\x00 Use Google’s official channels for gig work (Google doesn’t pay via Telegram).\\n6. Conclusion\\n6. Conclusion'),\n",
       " Document(metadata={'producer': 'Qt 4.8.7', 'creator': 'wkhtmltopdf 0.12.4', 'creationdate': '2025-03-27T04:29:32+00:00', 'title': 'Markdown To PDF', 'source': 'D:\\\\Hackathons\\\\SAP-HAkathon\\\\Fraud Suraksha\\\\GMaps.pdf', 'total_pages': 2, 'page': 0, 'page_label': '1'}, page_content='\\x00 Verify company legitimacy before engaging.\\n\\x00 Use Google’s official channels for gig work (Google doesn’t pay via Telegram).\\n6. Conclusion\\n6. Conclusion\\nThis scam exploits trust and greed, using small payments to manipulate victims into larger frauds. Awareness and skepticism are key to avoiding such traps. Always\\nverify before engaging in online \"task-based\" earning schemes.\\nReport Compiled By:\\nReport Compiled By:\\n Dhhanush'),\n",
       " Document(metadata={'producer': 'Qt 4.8.7', 'creator': 'wkhtmltopdf 0.12.4', 'creationdate': '2025-03-27T04:29:32+00:00', 'title': 'Markdown To PDF', 'source': 'D:\\\\Hackathons\\\\SAP-HAkathon\\\\Fraud Suraksha\\\\GMaps.pdf', 'total_pages': 2, 'page': 1, 'page_label': '2'}, page_content='Date:\\nDate:\\n 26/03/2025')]"
      ]
     },
     "execution_count": 163,
     "metadata": {},
     "output_type": "execute_result"
    }
   ],
   "source": [
    "splits"
   ]
  },
  {
   "cell_type": "code",
   "execution_count": 164,
   "metadata": {},
   "outputs": [],
   "source": [
    "vectorstore = Chroma.from_documents(documents=splits, embedding=gemini_embeddings)\n",
    "retriever = vectorstore.as_retriever()"
   ]
  },
  {
   "cell_type": "code",
   "execution_count": 165,
   "metadata": {},
   "outputs": [
    {
     "data": {
      "text/plain": [
       "VectorStoreRetriever(tags=['Chroma', 'GoogleGenerativeAIEmbeddings'], vectorstore=<langchain_chroma.vectorstores.Chroma object at 0x0000018EA493B0D0>, search_kwargs={})"
      ]
     },
     "execution_count": 165,
     "metadata": {},
     "output_type": "execute_result"
    }
   ],
   "source": [
    "retriever"
   ]
  },
  {
   "cell_type": "code",
   "execution_count": 166,
   "metadata": {},
   "outputs": [],
   "source": [
    "system_prompt = (\n",
    "    \"You are an AI-powered fraud detection assistant designed to help users verify whether a person, message, or situation is fraudulent or safe. \"\n",
    "    \"Use the following retrieved context to analyze scam patterns and assess the fraud risk score. \"\n",
    "    \"If you don't have enough data to confirm, suggest caution and advise the user to be careful. \"\n",
    "    \"Ask relevant follow-up questions if needed to gather more details before making a decision. \"\n",
    "    \"Provide structured responses, including fraud risk score, detected red flags, and recommended actions. \"\n",
    "    \"Never generate fake reports, financial guarantees, or unverifiable claims. \"\n",
    "    \"\\n\\n\"\n",
    "    \"{context}\"\n",
    ")  \n"
   ]
  },
  {
   "cell_type": "code",
   "execution_count": 167,
   "metadata": {},
   "outputs": [],
   "source": [
    "chat_prompt = ChatPromptTemplate.from_messages(\n",
    "    [\n",
    "        (\"system\", system_prompt),\n",
    "        (\"human\", \"{input}\"),\n",
    "    ]\n",
    ")"
   ]
  },
  {
   "cell_type": "code",
   "execution_count": 168,
   "metadata": {},
   "outputs": [],
   "source": [
    "question_answering_chain=create_stuff_documents_chain(model, chat_prompt)"
   ]
  },
  {
   "cell_type": "code",
   "execution_count": 169,
   "metadata": {},
   "outputs": [],
   "source": [
    "rag_chain = create_retrieval_chain(retriever, question_answering_chain)"
   ]
  },
  {
   "cell_type": "code",
   "execution_count": 170,
   "metadata": {},
   "outputs": [],
   "source": [
    "response = rag_chain.invoke({\"input\":\"What is the report contains\"})"
   ]
  },
  {
   "cell_type": "code",
   "execution_count": 171,
   "metadata": {},
   "outputs": [
    {
     "data": {
      "text/plain": [
       "'The report outlines a fraudulent scheme involving fake Google Maps review tasks. In this scam, victims are lured into performing small tasks for payment before being tricked into sending money under the guise of \"merchant tasks.\" The scam typically operates through WhatsApp and Telegram, targeting individuals with promises of easy earnings. The initial contact is usually made via WhatsApp from an unknown number, where the scammer offers payment for writing Google Maps reviews. A small initial payment is often sent to gain the victim’s trust. The scammer then asks the victim to move the conversation to Telegram.'"
      ]
     },
     "execution_count": 171,
     "metadata": {},
     "output_type": "execute_result"
    }
   ],
   "source": [
    "response[\"answer\"]"
   ]
  },
  {
   "cell_type": "code",
   "execution_count": 172,
   "metadata": {},
   "outputs": [],
   "source": [
    "response = rag_chain.invoke({\"input\":\"Hii im dhanush\"})"
   ]
  },
  {
   "cell_type": "code",
   "execution_count": 173,
   "metadata": {},
   "outputs": [
    {
     "data": {
      "text/plain": [
       "\"Hello Dhanush, how can I help you today? Are you concerned about a potential scam or suspicious activity? If so, please provide as many details as possible about the situation, including any messages or communications you've received.\""
      ]
     },
     "execution_count": 173,
     "metadata": {},
     "output_type": "execute_result"
    }
   ],
   "source": [
    "response[\"answer\"]"
   ]
  },
  {
   "cell_type": "code",
   "execution_count": 176,
   "metadata": {},
   "outputs": [
    {
     "data": {
      "text/plain": [
       "'I do not have access to personally identifiable information (PII), including your name. As an AI, I have no memory of past conversations.'"
      ]
     },
     "execution_count": 176,
     "metadata": {},
     "output_type": "execute_result"
    }
   ],
   "source": [
    "response = rag_chain.invoke({\"input\":\"What is my name\"})\n",
    "response[\"answer\"]"
   ]
  },
  {
   "cell_type": "markdown",
   "metadata": {},
   "source": [
    "### RAG With Memory"
   ]
  },
  {
   "cell_type": "code",
   "execution_count": 177,
   "metadata": {},
   "outputs": [],
   "source": [
    "from langchain_community.chat_message_histories import ChatMessageHistory\n",
    "from langchain_core.chat_history import BaseChatMessageHistory\n",
    "from langchain_core.runnables.history import RunnableWithMessageHistory\n",
    "from langchain_core.messages import HumanMessage"
   ]
  },
  {
   "cell_type": "code",
   "execution_count": 178,
   "metadata": {},
   "outputs": [],
   "source": [
    "store = {}"
   ]
  },
  {
   "cell_type": "code",
   "execution_count": 179,
   "metadata": {},
   "outputs": [],
   "source": [
    "def get_session_history(session_id: str) -> BaseChatMessageHistory:\n",
    "    if session_id not in store:\n",
    "        store[session_id] = ChatMessageHistory()\n",
    "    return store[session_id]"
   ]
  },
  {
   "cell_type": "code",
   "execution_count": 180,
   "metadata": {},
   "outputs": [],
   "source": [
    "conversational_rag_chain = RunnableWithMessageHistory(\n",
    "    rag_chain,\n",
    "    get_session_history,\n",
    "    input_messages_key=\"input\",\n",
    "    history_messages_key=\"chat_history\",\n",
    "    output_messages_key=\"answer\",\n",
    ")"
   ]
  },
  {
   "cell_type": "code",
   "execution_count": 1,
   "metadata": {},
   "outputs": [],
   "source": [
    "config = {\n",
    "        \"configurable\": {\"session_id\": \"abc123\"}\n",
    "    }"
   ]
  },
  {
   "cell_type": "code",
   "execution_count": null,
   "metadata": {},
   "outputs": [],
   "source": [
    "conversational_rag_chain.invoke(\n",
    "    [HumanMessage(content=\"What's my name?\")],\n",
    "    config=config,\n",
    ")"
   ]
  },
  {
   "cell_type": "code",
   "execution_count": 181,
   "metadata": {},
   "outputs": [
    {
     "data": {
      "text/plain": [
       "\"Google Maps fraud involves scammers exploiting the platform's features by creating fake business listings to impersonate legitimate companies or inventing non-existent ones. Unsuspecting customers who interact with these fake listings may be overcharged, receive subpar services, or become victims of fraud. In March 2025, Google filed a lawsuit against individuals responsible for approximately 10,000 fraudulent business listings.\""
      ]
     },
     "execution_count": 181,
     "metadata": {},
     "output_type": "execute_result"
    }
   ],
   "source": [
    "conversational_rag_chain.invoke(\n",
    "    {\"input\": \"What is Google Maps Fraud?\"},\n",
    "    config=config,  # constructs a key \"abc123\" in `store`.\n",
    ")[\"answer\"]"
   ]
  },
  {
   "cell_type": "code",
   "execution_count": 183,
   "metadata": {},
   "outputs": [
    {
     "data": {
      "text/plain": [
       "'Okay, Dhanush. How can I help you today? Are you concerned about a potential scam, or do you want to verify the legitimacy of a person, message, or situation? Please provide as much detail as possible so I can assist you effectively.'"
      ]
     },
     "execution_count": 183,
     "metadata": {},
     "output_type": "execute_result"
    }
   ],
   "source": [
    "conversational_rag_chain.invoke(\n",
    "    {\"input\": \"My name is Dhanush\"},\n",
    "    config={\n",
    "        \"configurable\": {\"session_id\": \"session\"}\n",
    "    },  # constructs a key \"abc123\" in `store`.\n",
    ")[\"answer\"]"
   ]
  },
  {
   "cell_type": "code",
   "execution_count": 184,
   "metadata": {},
   "outputs": [
    {
     "data": {
      "text/plain": [
       "'I do not have access to personally identifiable information, including your name. As an AI, I respect your privacy.'"
      ]
     },
     "execution_count": 184,
     "metadata": {},
     "output_type": "execute_result"
    }
   ],
   "source": [
    "conversational_rag_chain.invoke(\n",
    "    {\"input\": \"What is my name\"},\n",
    "    config={\n",
    "        \"configurable\": {\"session_id\": \"session\"}\n",
    "    },  \n",
    ")[\"answer\"]"
   ]
  },
  {
   "cell_type": "code",
   "execution_count": 185,
   "metadata": {},
   "outputs": [],
   "source": [
    "from langchain_core.messages import AIMessage"
   ]
  },
  {
   "cell_type": "code",
   "execution_count": 186,
   "metadata": {},
   "outputs": [
    {
     "name": "stdout",
     "output_type": "stream",
     "text": [
      "User: My name is Dhanush\n",
      "\n",
      "AI: Okay, Dhanush. How can I help you today? Are you concerned about a potential scam, or do you want to verify the legitimacy of a person, message, or situation? Please provide as much detail as possible so I can assist you effectively.\n",
      "\n",
      "User: What is my name\n",
      "\n",
      "AI: I do not have access to personally identifiable information, including your name. As an AI, I respect your privacy.\n",
      "\n"
     ]
    }
   ],
   "source": [
    "for message in store[\"session\"].messages:\n",
    "    if isinstance(message, AIMessage):\n",
    "        prefix = \"AI\"\n",
    "    else:\n",
    "        prefix = \"User\"\n",
    "\n",
    "    print(f\"{prefix}: {message.content}\\n\")"
   ]
  },
  {
   "cell_type": "code",
   "execution_count": 187,
   "metadata": {},
   "outputs": [
    {
     "data": {
      "text/plain": [
       "'Based on the provided context, here\\'s a breakdown of common methods used in this scam:\\n\\n**1. Initial Contact via WhatsApp:**\\n\\n*   The scam usually starts with a message on WhatsApp from an unknown number.\\n*   The message offers payment for simple tasks like writing Google Maps reviews.\\n*   A small initial payment (e.g., ₹200) is sent to build trust.\\n\\n**2. Transition to Telegram:**\\n\\n*   The scammer asks the victim to move the conversation to Telegram, a platform that might have less stringent monitoring.\\n*   On Telegram, a \"task manager\" assigns small tasks such as:\\n    *   Liking YouTube videos.\\n    *   Subscribing to channels.\\n    *   Writing fake Google reviews.\\n*   The victim receives a small payment for each task (e.g., ₹40).\\n\\n**3. Introduction of \"Merchant Task\":**\\n\\n*   After the victim completes a few initial tasks (5-6), they are told they need to complete a \"merchant task\" to receive their full salary.\\n*   The scammer presents multiple payment plans (e.g., ₹1010, ₹2500, ₹5000), claiming it\\'s an \"investment\" for higher returns.\\n\\n**4. Extraction of More Money:**\\n\\n*   Once the victim makes an initial payment for the \"merchant task,\" they are given more tasks that require larger payments.\\n*   Scammers use excuses to get more money, such as:\\n    *   \"You selected the wrong option, pay again.\"\\n    *   \"Complete one more task to unlock withdrawals.\"\\n\\nIn summary, the scam starts with a low-risk, seemingly legitimate offer, then escalates into demands for increasingly larger payments under false pretenses. The use of WhatsApp for initial contact and Telegram for task management are also common characteristics.'"
      ]
     },
     "execution_count": 187,
     "metadata": {},
     "output_type": "execute_result"
    }
   ],
   "source": [
    "conversational_rag_chain.invoke(\n",
    "    {\"input\": \"What are common ways of doing it?\"},\n",
    "    config={\"configurable\": {\"session_id\": \"abc123\"}},\n",
    ")[\"answer\"]"
   ]
  },
  {
   "cell_type": "code",
   "execution_count": 188,
   "metadata": {},
   "outputs": [],
   "source": [
    "from langchain_core.messages import AIMessage"
   ]
  },
  {
   "cell_type": "code",
   "execution_count": 189,
   "metadata": {},
   "outputs": [
    {
     "name": "stdout",
     "output_type": "stream",
     "text": [
      "User: What is Google Maps Fraud?\n",
      "\n",
      "AI: Google Maps fraud involves scammers exploiting the platform's features by creating fake business listings to impersonate legitimate companies or inventing non-existent ones. Unsuspecting customers who interact with these fake listings may be overcharged, receive subpar services, or become victims of fraud. In March 2025, Google filed a lawsuit against individuals responsible for approximately 10,000 fraudulent business listings.\n",
      "\n",
      "User: My name is Dhanush\n",
      "\n",
      "AI: Okay, Dhanush. How can I help you today? Do you want to verify a person, message, or situation for potential fraud? Please provide as many details as possible so I can assist you effectively.\n",
      "\n",
      "User: What are common ways of doing it?\n",
      "\n",
      "AI: Based on the provided context, here's a breakdown of common methods used in this scam:\n",
      "\n",
      "**1. Initial Contact via WhatsApp:**\n",
      "\n",
      "*   The scam usually starts with a message on WhatsApp from an unknown number.\n",
      "*   The message offers payment for simple tasks like writing Google Maps reviews.\n",
      "*   A small initial payment (e.g., ₹200) is sent to build trust.\n",
      "\n",
      "**2. Transition to Telegram:**\n",
      "\n",
      "*   The scammer asks the victim to move the conversation to Telegram, a platform that might have less stringent monitoring.\n",
      "*   On Telegram, a \"task manager\" assigns small tasks such as:\n",
      "    *   Liking YouTube videos.\n",
      "    *   Subscribing to channels.\n",
      "    *   Writing fake Google reviews.\n",
      "*   The victim receives a small payment for each task (e.g., ₹40).\n",
      "\n",
      "**3. Introduction of \"Merchant Task\":**\n",
      "\n",
      "*   After the victim completes a few initial tasks (5-6), they are told they need to complete a \"merchant task\" to receive their full salary.\n",
      "*   The scammer presents multiple payment plans (e.g., ₹1010, ₹2500, ₹5000), claiming it's an \"investment\" for higher returns.\n",
      "\n",
      "**4. Extraction of More Money:**\n",
      "\n",
      "*   Once the victim makes an initial payment for the \"merchant task,\" they are given more tasks that require larger payments.\n",
      "*   Scammers use excuses to get more money, such as:\n",
      "    *   \"You selected the wrong option, pay again.\"\n",
      "    *   \"Complete one more task to unlock withdrawals.\"\n",
      "\n",
      "In summary, the scam starts with a low-risk, seemingly legitimate offer, then escalates into demands for increasingly larger payments under false pretenses. The use of WhatsApp for initial contact and Telegram for task management are also common characteristics.\n",
      "\n"
     ]
    }
   ],
   "source": [
    "for message in store[\"abc123\"].messages:\n",
    "    if isinstance(message, AIMessage):\n",
    "        prefix = \"AI\"\n",
    "    else:\n",
    "        prefix = \"User\"\n",
    "\n",
    "    print(f\"{prefix}: {message.content}\\n\")"
   ]
  },
  {
   "cell_type": "code",
   "execution_count": null,
   "metadata": {},
   "outputs": [],
   "source": [
    "store"
   ]
  },
  {
   "cell_type": "code",
   "execution_count": null,
   "metadata": {},
   "outputs": [],
   "source": [
    "for message in store[\"abc123\"].messages:\n",
    "    if isinstance(message, AIMessage):\n",
    "        prefix = \"AI\"\n",
    "    else:\n",
    "        prefix = \"User\"\n",
    "\n",
    "    print(f\"{prefix}: {message.content}\\n\")"
   ]
  },
  {
   "cell_type": "code",
   "execution_count": null,
   "metadata": {},
   "outputs": [],
   "source": [
    "conversational_rag_chain.invoke(\n",
    "    {\"input\": \"Hey i think i meat with a scammer...!\"},\n",
    "    config={\"configurable\": {\"session_id\": \"session1\"}},\n",
    ")[\"answer\"]"
   ]
  },
  {
   "cell_type": "code",
   "execution_count": null,
   "metadata": {},
   "outputs": [],
   "source": [
    "conversational_rag_chain.invoke(\n",
    "    {\"input\": \"Encountered with the whats app and asked me to write reviews and give rating and asked me to send screenshot\"},\n",
    "    config={\"configurable\": {\"session_id\": \"session1\"}},\n",
    ")[\"answer\"]"
   ]
  },
  {
   "cell_type": "code",
   "execution_count": null,
   "metadata": {},
   "outputs": [],
   "source": [
    "for message in store[\"session1\"].messages:\n",
    "    if isinstance(message, AIMessage):\n",
    "        prefix = \"AI\"\n",
    "    else:\n",
    "        prefix = \"User\"\n",
    "\n",
    "    print(f\"{prefix}: {message.content}\\n\")"
   ]
  },
  {
   "cell_type": "code",
   "execution_count": 190,
   "metadata": {},
   "outputs": [
    {
     "data": {
      "text/plain": [
       "\"Hello Dhanush, how can I help you today? Do you have a specific person, message, or situation you'd like me to check for potential fraud?\""
      ]
     },
     "execution_count": 190,
     "metadata": {},
     "output_type": "execute_result"
    }
   ],
   "source": [
    "conversational_rag_chain.invoke(\n",
    "    {\"input\": \"Hii im dhanush\"},\n",
    "    config={\"configurable\": {\"session_id\": \"fraud\"}},\n",
    ")[\"answer\"]"
   ]
  },
  {
   "cell_type": "code",
   "execution_count": 191,
   "metadata": {},
   "outputs": [
    {
     "data": {
      "text/plain": [
       "'I do not have access to personally identifiable information, including your name. As an AI, I respect your privacy and operate without storing personal data.'"
      ]
     },
     "execution_count": 191,
     "metadata": {},
     "output_type": "execute_result"
    }
   ],
   "source": [
    "conversational_rag_chain.invoke(\n",
    "    {\"input\": \"What is my name\"},\n",
    "    config={\"configurable\": {\"session_id\": \"fraud\"}},\n",
    ")[\"answer\"]"
   ]
  }
 ],
 "metadata": {
  "kernelspec": {
   "display_name": ".venv",
   "language": "python",
   "name": "python3"
  },
  "language_info": {
   "codemirror_mode": {
    "name": "ipython",
    "version": 3
   },
   "file_extension": ".py",
   "mimetype": "text/x-python",
   "name": "python",
   "nbconvert_exporter": "python",
   "pygments_lexer": "ipython3",
   "version": "3.10.0"
  }
 },
 "nbformat": 4,
 "nbformat_minor": 2
}
